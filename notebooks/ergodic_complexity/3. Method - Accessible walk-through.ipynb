{
 "cells": [
  {
   "cell_type": "code",
   "execution_count": 1,
   "id": "b5d53223",
   "metadata": {},
   "outputs": [],
   "source": [
    "import nbsetup\n",
    "import numpy as np\n",
    "import ensemblepy as ep"
   ]
  },
  {
   "cell_type": "code",
   "execution_count": 4,
   "id": "548604b9",
   "metadata": {},
   "outputs": [],
   "source": [
    "def pmf(sequence):\n",
    "    \"\"\" Calculates the pmf for a given boolean sequence \"\"\"\n",
    "    p1, total = sequence.count(\"1\"), len(sequence)\n",
    "    return [p1/total, 1 - p1/total]\n",
    "\n",
    "def run_cases(cases):\n",
    "    \"\"\" Calculates complexity and ensembles entropies for sequence of bools \"\"\"\n",
    "    measures = ep.measures([pmf(c) for c in cases], with_meta=True)\n",
    "    [print(ep.LEGEND[k][0], v) for k,v in measures.items()]\n",
    "    return measures"
   ]
  },
  {
   "cell_type": "markdown",
   "id": "cf634ccd",
   "metadata": {},
   "source": [
    "# Example accessible walk through"
   ]
  },
  {
   "cell_type": "markdown",
   "id": "9c98c187",
   "metadata": {},
   "source": [
    "For example we have 3 systems A, B, C which we are treating as ensembles. We only get a small amount of data from these systems, so we want to know if we can combine the results treating them like a standard statistical system or if they are \\emph{ergodicially complex} and so need more data."
   ]
  },
  {
   "cell_type": "markdown",
   "id": "a99b2a57",
   "metadata": {},
   "source": [
    "## Ordered case"
   ]
  },
  {
   "cell_type": "markdown",
   "id": "7d953149",
   "metadata": {},
   "source": [
    "The only measure the systems produce is a sequence of booleans e.g. A = 1110000000, B = 1100000000, C = 1110000000.\n",
    "\n",
    "Using Shannon's formula (\\ref{equation_shannon_entropy}) a common method\\cite{ref_selforg} to approximate the information entropy \\(H_i\\) for a message string like this is by using the probability of getting a 0 or 1, using all the data from the sequence we've measured. So for ensemble A we have \\(P_A(0) = 7/10, P_A(1) = 3/10\\), giving an information entropy of\n",
    "\\[\n",
    "H_A = -\\sum p_i \\log{p_i}\n",
    "= -0.7\\log(0.7)-0.3\\log(0.3)\n",
    "= 0.6109\n",
    "\\]\n",
    "Using the same method we find \\(H_B = 0.5004, H_C = 0.6109\\).\n",
    "\n",
    "To find \\(H_\\varepsilon\\) we conceptually assume the system is ergodic so observations from all ensembles can be combined into a new single system E = 111000000011000000001111000000, \n",
    "\\[\n",
    "H_\\varepsilon\n",
    "= -\\frac{9}{30}\\log(\\frac{9}{30})-\\frac{21}{30}\\log(\\frac{21}{30})\n",
    "= 0.5799\n",
    "\\]\n",
    "Which is the same as using the mean ensemble probability distribution \\(\\overline{P}=\\{\\overline{p_1}, \\overline{p_0}\\}\\).\n",
    "\n",
    "Finally, using (\\ref{equation_complexity}) we get\n",
    "\\[\n",
    "C_\\varepsilon\n",
    "= \\sqrt{\\frac{(H_\\varepsilon-H_A)^2+(H_\\varepsilon-H_B)^2+(H_\\varepsilon-H_C)^2}{3*H_\\varepsilon}} = 0.07\n",
    "\\]\n",
    "Which is low and matches our intuition that we could treat it as statistical."
   ]
  },
  {
   "cell_type": "code",
   "execution_count": 5,
   "id": "c217a64d",
   "metadata": {
    "scrolled": true
   },
   "outputs": [
    {
     "name": "stdout",
     "output_type": "stream",
     "text": [
      "Mean ensemble entropy 0.5740436758826583\n",
      "Pooled entropy 0.5799151714181009\n",
      "Ensemble divergence 0.005871495535442603\n",
      "Ensemble complexity 0.06881250337735914\n",
      "Entropies of individual ensembles [0.6108643020548935, 0.5004024235381879, 0.6108643020548935]\n",
      "Weights of each ensemble [0.33333333 0.33333333 0.33333333]\n"
     ]
    }
   ],
   "source": [
    "ordered = run_cases([\"1110000000\", \"1100000000\", \"1110000000\"])"
   ]
  },
  {
   "cell_type": "markdown",
   "id": "636fbc5c",
   "metadata": {},
   "source": [
    "## Ergodically complex case"
   ]
  },
  {
   "cell_type": "code",
   "execution_count": 6,
   "id": "98f19bd9",
   "metadata": {
    "scrolled": true
   },
   "outputs": [
    {
     "name": "stdout",
     "output_type": "stream",
     "text": [
      "Mean ensemble entropy 0.3250829733914482\n",
      "Pooled entropy 0.6571577614973405\n",
      "Ensemble divergence 0.3320747881058923\n",
      "Ensemble complexity 0.409638798265074\n",
      "Entropies of individual ensembles [0.3250829733914482, 0.3250829733914482, 0.3250829733914482]\n",
      "Weights of each ensemble [0.33333333 0.33333333 0.33333333]\n"
     ]
    }
   ],
   "source": [
    "erg = run_cases([\"1000000000\", \"0111111111\", \"0111111111\"])"
   ]
  },
  {
   "cell_type": "code",
   "execution_count": 7,
   "id": "31d0e2f0",
   "metadata": {},
   "outputs": [
    {
     "data": {
      "text/plain": [
       "5.952970436472369"
      ]
     },
     "execution_count": 7,
     "metadata": {},
     "output_type": "execute_result"
    }
   ],
   "source": [
    "erg['complexity']/ordered['complexity']"
   ]
  },
  {
   "cell_type": "markdown",
   "id": "e8621fa7",
   "metadata": {},
   "source": [
    "## Disordered case"
   ]
  },
  {
   "cell_type": "code",
   "execution_count": 8,
   "id": "efb20de6",
   "metadata": {},
   "outputs": [
    {
     "name": "stdout",
     "output_type": "stream",
     "text": [
      "Mean ensemble entropy 0.5740436758826583\n",
      "Pooled entropy 0.5799151714181009\n",
      "Ensemble divergence 0.005871495535442601\n",
      "Ensemble complexity 0.06881250337735914\n",
      "Entropies of individual ensembles [0.6108643020548935, 0.6108643020548935, 0.5004024235381879]\n",
      "Weights of each ensemble [0.33333333 0.33333333 0.33333333]\n"
     ]
    }
   ],
   "source": [
    "disordered = run_cases([\"0111101011\", \"1110101101\", \"1111101110\"])"
   ]
  },
  {
   "cell_type": "code",
   "execution_count": null,
   "id": "b9c61ca0",
   "metadata": {},
   "outputs": [],
   "source": []
  }
 ],
 "metadata": {
  "kernelspec": {
   "display_name": "complexity",
   "language": "python",
   "name": "complexity"
  },
  "language_info": {
   "codemirror_mode": {
    "name": "ipython",
    "version": 3
   },
   "file_extension": ".py",
   "mimetype": "text/x-python",
   "name": "python",
   "nbconvert_exporter": "python",
   "pygments_lexer": "ipython3",
   "version": "3.9.5"
  }
 },
 "nbformat": 4,
 "nbformat_minor": 5
}

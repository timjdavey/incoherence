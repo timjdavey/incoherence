{
 "cells": [
  {
   "cell_type": "code",
   "execution_count": 36,
   "id": "8c4e488c",
   "metadata": {},
   "outputs": [],
   "source": [
    "import nbsetup\n",
    "import ergodicpy as ep\n",
    "import numpy as np\n",
    "from scipy.spatial.distance import jensenshannon\n",
    "from scipy.stats import entropy\n",
    "from itertools import combinations\n",
    "import seaborn as sns"
   ]
  },
  {
   "cell_type": "markdown",
   "id": "9f4803a0",
   "metadata": {},
   "source": [
    "https://stats.stackexchange.com/questions/117225/jensen-shannon-divergence-vs-kullback-leibler-divergence\n",
    "    \n",
    "KL is infinite when the two systems are extremely different. This is a feature when you're trying to make two distributions match. But a bug when it's ok for them to not match and you just want to ignore that distribution in weights."
   ]
  },
  {
   "cell_type": "code",
   "execution_count": 30,
   "id": "3b84dcc9",
   "metadata": {},
   "outputs": [],
   "source": [
    "def distances(hists, base=None):\n",
    "    print(\"KL Divergence\", [entropy(p, q, base) for p, q in combinations(hists, 2)])\n",
    "    print(\"Jensen Shannon\", [jensenshannon(p, q, base) for p, q in combinations(hists, 2)])\n",
    "    print(\"Ergodic Div\", [ep.measures([p, q], weights=False, base=base)['divergence']**0.5 for p, q in combinations(hists, 2)])\n",
    "    print(\"Maximum possible distance\", max_distance(len(hists[0]), base))\n",
    "\n",
    "def max_distance(states, base=None):\n",
    "    S = np.log(states-1)\n",
    "    if base is not None:\n",
    "        S /= np.log(base)\n",
    "    return S**0.5\n"
   ]
  },
  {
   "cell_type": "code",
   "execution_count": 31,
   "id": "8ec8b34b",
   "metadata": {},
   "outputs": [
    {
     "name": "stdout",
     "output_type": "stream",
     "text": [
      "KL Divergence [inf, inf, inf]\n",
      "Jensen Shannon [0.8325546111576977, 0.8325546111576977, 0.8325546111576977]\n",
      "Ergodic Div [0.8325546111576977, 0.8325546111576977, 0.8325546111576977]\n",
      "Maximum possible distance 0.8325546111576977\n"
     ]
    }
   ],
   "source": [
    "distances([[0,0,1],[0,1,0],[1,0,0]])"
   ]
  },
  {
   "cell_type": "code",
   "execution_count": 32,
   "id": "cbb8a260",
   "metadata": {},
   "outputs": [
    {
     "name": "stdout",
     "output_type": "stream",
     "text": [
      "KL Divergence [inf, 0.0, inf]\n",
      "Jensen Shannon [1.0, 0.0, 1.0]\n",
      "Ergodic Div [1.0, 0.0, 1.0]\n",
      "Maximum possible distance 1.0\n"
     ]
    },
    {
     "data": {
      "text/plain": [
       "(None, 1.0)"
      ]
     },
     "execution_count": 32,
     "metadata": {},
     "output_type": "execute_result"
    }
   ],
   "source": [
    "distances([[1,0,0],[0,1,0],[1,0,0]], 2), max_distance(3, 2)"
   ]
  },
  {
   "cell_type": "code",
   "execution_count": 33,
   "id": "45b08bbb",
   "metadata": {},
   "outputs": [
    {
     "name": "stdout",
     "output_type": "stream",
     "text": [
      "KL Divergence [inf, 0.0, inf]\n",
      "Jensen Shannon [1.0, 0.0, 1.0]\n",
      "Ergodic Div [1.0, 0.0, 1.0]\n",
      "Maximum possible distance 1.0\n"
     ]
    }
   ],
   "source": [
    "distances([[1,0,0],[0,1,0],[1,0,0]], 2)"
   ]
  },
  {
   "cell_type": "code",
   "execution_count": 34,
   "id": "659038f3",
   "metadata": {},
   "outputs": [
    {
     "name": "stdout",
     "output_type": "stream",
     "text": [
      "\n",
      "Trial 0\n",
      "KL Divergence [0.24185133189122865, 0.43240061931372786, 0.5904919901868683]\n",
      "Jensen Shannon [0.2196846716424852, 0.34070751005409167, 0.3826478565681238]\n",
      "Ergodic Div [0.2196846716424851, 0.3407075100540916, 0.3826478565681237]\n",
      "Maximum possible distance 0.8325546111576977\n",
      "\n",
      "Trial 1\n",
      "KL Divergence [0.8328353822235595, 0.21439018779494695, 0.14518337656435865]\n",
      "Jensen Shannon [0.4061780075595263, 0.23361664546571084, 0.20160538972299957]\n",
      "Ergodic Div [0.4061780075595263, 0.23361664546571093, 0.2016053897229997]\n",
      "Maximum possible distance 0.8325546111576977\n",
      "\n",
      "Trial 2\n",
      "KL Divergence [0.27991193972280537, 0.010740656655116865, 0.335390587460368]\n",
      "Jensen Shannon [0.2671936253171215, 0.05176373960639863, 0.275492743330281]\n",
      "Ergodic Div [0.2671936253171216, 0.0517637396063985, 0.27549274333028106]\n",
      "Maximum possible distance 0.8325546111576977\n",
      "\n",
      "Trial 3\n",
      "KL Divergence [1.1251209797779422, 0.4041250526846727, 0.547702596817828]\n",
      "Jensen Shannon [0.5055044630192649, 0.314815183803079, 0.3481568416799476]\n",
      "Ergodic Div [0.5055044630192648, 0.31481518380307905, 0.3481568416799474]\n",
      "Maximum possible distance 0.8325546111576977\n",
      "\n",
      "Trial 4\n",
      "KL Divergence [0.1830717863154312, 0.010625193210824592, 0.22321461356843203]\n",
      "Jensen Shannon [0.21629696587463537, 0.051976818247508084, 0.23170300968922147]\n",
      "Ergodic Div [0.21629696587463532, 0.051976818247507696, 0.23170300968922125]\n",
      "Maximum possible distance 0.8325546111576977\n",
      "\n",
      "Trial 5\n",
      "KL Divergence [0.052751778783359675, 2.0154252803543073, 1.647375845560829]\n",
      "Jensen Shannon [0.11574700439469224, 0.5509463250423006, 0.4696983957405778]\n",
      "Ergodic Div [0.11574700439469182, 0.5509463250423005, 0.4696983957405778]\n",
      "Maximum possible distance 0.8325546111576977\n",
      "\n",
      "Trial 6\n",
      "KL Divergence [0.5473316442331064, 0.16909572341332832, 0.15155044260324194]\n",
      "Jensen Shannon [0.3556078273088548, 0.2130473146057072, 0.20158499932026175]\n",
      "Ergodic Div [0.3556078273088546, 0.21304731460570742, 0.20158499932026186]\n",
      "Maximum possible distance 0.8325546111576977\n",
      "\n",
      "Trial 7\n",
      "KL Divergence [0.10338061930178513, 0.0809578280023736, 0.35215849396672605]\n",
      "Jensen Shannon [0.16059791883501492, 0.13806866418468514, 0.2771783205988693]\n",
      "Ergodic Div [0.16059791883501537, 0.13806866418468608, 0.27717832059886965]\n",
      "Maximum possible distance 0.8325546111576977\n",
      "\n",
      "Trial 8\n",
      "KL Divergence [1.4354318546867564, 0.7753928852340657, 0.12123035496497572]\n",
      "Jensen Shannon [0.37526521944616326, 0.3964717026822779, 0.17937632601761525]\n",
      "Ergodic Div [0.37526521944616337, 0.3964717026822781, 0.1793763260176149]\n",
      "Maximum possible distance 0.8325546111576977\n",
      "\n",
      "Trial 9\n",
      "KL Divergence [1.4393974173737658, 1.4986862654218982, 3.4148329142543927]\n",
      "Jensen Shannon [0.5678382473162191, 0.4587799439511054, 0.596764546059533]\n",
      "Ergodic Div [0.5678382473162189, 0.45877994395110533, 0.5967645460595331]\n",
      "Maximum possible distance 0.8325546111576977\n"
     ]
    }
   ],
   "source": [
    "trials = 10\n",
    "ensembles = 3\n",
    "states = 3\n",
    "for i in range(trials):\n",
    "    print(\"\\nTrial %s\" % i)\n",
    "    hists = [[np.random.random() for _ in range(states)] for _ in range(ensembles)]\n",
    "    distances(hists)"
   ]
  },
  {
   "cell_type": "code",
   "execution_count": null,
   "id": "2bdd796f",
   "metadata": {},
   "outputs": [],
   "source": []
  },
  {
   "cell_type": "code",
   "execution_count": null,
   "id": "761b77a0",
   "metadata": {},
   "outputs": [],
   "source": []
  }
 ],
 "metadata": {
  "kernelspec": {
   "display_name": "Python 3",
   "language": "python",
   "name": "python3"
  },
  "language_info": {
   "codemirror_mode": {
    "name": "ipython",
    "version": 3
   },
   "file_extension": ".py",
   "mimetype": "text/x-python",
   "name": "python",
   "nbconvert_exporter": "python",
   "pygments_lexer": "ipython3",
   "version": "3.9.5"
  }
 },
 "nbformat": 4,
 "nbformat_minor": 5
}

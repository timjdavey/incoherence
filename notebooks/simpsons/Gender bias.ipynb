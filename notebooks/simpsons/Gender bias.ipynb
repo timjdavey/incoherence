{
 "cells": [
  {
   "cell_type": "code",
   "execution_count": 1,
   "id": "b0e67147",
   "metadata": {},
   "outputs": [],
   "source": [
    "import nbsetup\n",
    "import ergodicpy as ep\n",
    "import pandas as pd"
   ]
  },
  {
   "cell_type": "code",
   "execution_count": 15,
   "id": "c26d6f0e",
   "metadata": {},
   "outputs": [
    {
     "data": {
      "text/html": [
       "<div>\n",
       "<style scoped>\n",
       "    .dataframe tbody tr th:only-of-type {\n",
       "        vertical-align: middle;\n",
       "    }\n",
       "\n",
       "    .dataframe tbody tr th {\n",
       "        vertical-align: top;\n",
       "    }\n",
       "\n",
       "    .dataframe thead th {\n",
       "        text-align: right;\n",
       "    }\n",
       "</style>\n",
       "<table border=\"1\" class=\"dataframe\">\n",
       "  <thead>\n",
       "    <tr style=\"text-align: right;\">\n",
       "      <th></th>\n",
       "      <th>men</th>\n",
       "      <th>m%</th>\n",
       "      <th>women</th>\n",
       "      <th>w%</th>\n",
       "      <th>ma</th>\n",
       "      <th>mn</th>\n",
       "      <th>wa</th>\n",
       "      <th>wn</th>\n",
       "    </tr>\n",
       "  </thead>\n",
       "  <tbody>\n",
       "    <tr>\n",
       "      <th>0</th>\n",
       "      <td>825</td>\n",
       "      <td>0.62</td>\n",
       "      <td>108</td>\n",
       "      <td>0.82</td>\n",
       "      <td>511.50</td>\n",
       "      <td>313.50</td>\n",
       "      <td>88.56</td>\n",
       "      <td>19.44</td>\n",
       "    </tr>\n",
       "    <tr>\n",
       "      <th>1</th>\n",
       "      <td>560</td>\n",
       "      <td>0.63</td>\n",
       "      <td>25</td>\n",
       "      <td>0.68</td>\n",
       "      <td>352.80</td>\n",
       "      <td>207.20</td>\n",
       "      <td>17.00</td>\n",
       "      <td>8.00</td>\n",
       "    </tr>\n",
       "    <tr>\n",
       "      <th>2</th>\n",
       "      <td>325</td>\n",
       "      <td>0.37</td>\n",
       "      <td>593</td>\n",
       "      <td>0.34</td>\n",
       "      <td>120.25</td>\n",
       "      <td>204.75</td>\n",
       "      <td>201.62</td>\n",
       "      <td>391.38</td>\n",
       "    </tr>\n",
       "    <tr>\n",
       "      <th>3</th>\n",
       "      <td>417</td>\n",
       "      <td>0.33</td>\n",
       "      <td>375</td>\n",
       "      <td>0.35</td>\n",
       "      <td>137.61</td>\n",
       "      <td>279.39</td>\n",
       "      <td>131.25</td>\n",
       "      <td>243.75</td>\n",
       "    </tr>\n",
       "    <tr>\n",
       "      <th>4</th>\n",
       "      <td>191</td>\n",
       "      <td>0.28</td>\n",
       "      <td>393</td>\n",
       "      <td>0.24</td>\n",
       "      <td>53.48</td>\n",
       "      <td>137.52</td>\n",
       "      <td>94.32</td>\n",
       "      <td>298.68</td>\n",
       "    </tr>\n",
       "    <tr>\n",
       "      <th>5</th>\n",
       "      <td>373</td>\n",
       "      <td>0.06</td>\n",
       "      <td>341</td>\n",
       "      <td>0.07</td>\n",
       "      <td>22.38</td>\n",
       "      <td>350.62</td>\n",
       "      <td>23.87</td>\n",
       "      <td>317.13</td>\n",
       "    </tr>\n",
       "  </tbody>\n",
       "</table>\n",
       "</div>"
      ],
      "text/plain": [
       "   men    m%  women    w%      ma      mn      wa      wn\n",
       "0  825  0.62    108  0.82  511.50  313.50   88.56   19.44\n",
       "1  560  0.63     25  0.68  352.80  207.20   17.00    8.00\n",
       "2  325  0.37    593  0.34  120.25  204.75  201.62  391.38\n",
       "3  417  0.33    375  0.35  137.61  279.39  131.25  243.75\n",
       "4  191  0.28    393  0.24   53.48  137.52   94.32  298.68\n",
       "5  373  0.06    341  0.07   22.38  350.62   23.87  317.13"
      ]
     },
     "execution_count": 15,
     "metadata": {},
     "output_type": "execute_result"
    }
   ],
   "source": [
    "df = pd.DataFrame({\n",
    "    'men': [825, 560, 325, 417, 191, 373],\n",
    "    'm%': [0.62, 0.63, 0.37, 0.33, 0.28, 0.06],\n",
    "    'women': [108, 25, 593, 375, 393, 341],\n",
    "    'w%': [0.82, 0.68, 0.34, 0.35, 0.24, 0.07]\n",
    "})\n",
    "df['ma'] = df['men']*df['m%']\n",
    "df['mn'] = df['men'] - df['ma']\n",
    "df['wa'] = df['women']*df['w%']\n",
    "df['wn'] = df['women'] - df['wa']\n",
    "df"
   ]
  },
  {
   "cell_type": "code",
   "execution_count": 16,
   "id": "b43658d1",
   "metadata": {},
   "outputs": [
    {
     "data": {
      "text/plain": [
       "(0.44519509476031216, 0.3033351498637602)"
      ]
     },
     "execution_count": 16,
     "metadata": {},
     "output_type": "execute_result"
    }
   ],
   "source": [
    "df['ma'].sum()/df['men'].sum(), df['wa'].sum()/df['women'].sum()"
   ]
  },
  {
   "cell_type": "code",
   "execution_count": 58,
   "id": "c21616bc",
   "metadata": {},
   "outputs": [
    {
     "data": {
      "text/plain": [
       "(0    511.50\n",
       " 1    352.80\n",
       " 2    120.25\n",
       " 3    137.61\n",
       " 4     53.48\n",
       " 5     22.38\n",
       " Name: ma, dtype: float64,\n",
       " 0    313.50\n",
       " 1    207.20\n",
       " 2    204.75\n",
       " 3    279.39\n",
       " 4    137.52\n",
       " 5    350.62\n",
       " Name: mn, dtype: float64,\n",
       " 0     88.56\n",
       " 1     17.00\n",
       " 2    201.62\n",
       " 3    131.25\n",
       " 4     94.32\n",
       " 5     23.87\n",
       " Name: wa, dtype: float64,\n",
       " 0     19.44\n",
       " 1      8.00\n",
       " 2    391.38\n",
       " 3    243.75\n",
       " 4    298.68\n",
       " 5    317.13\n",
       " Name: wn, dtype: float64)"
      ]
     },
     "execution_count": 58,
     "metadata": {},
     "output_type": "execute_result"
    }
   ],
   "source": [
    "d = df['ma'], df['mn'], df['wa'], df['wn']\n",
    "hists = d#[[d[j][i] for j in range(len(d))] for i in range(6)]\n",
    "hists"
   ]
  },
  {
   "cell_type": "code",
   "execution_count": 59,
   "id": "0754f0bf",
   "metadata": {},
   "outputs": [],
   "source": [
    "ec = ep.ErgodicCollection(hists)"
   ]
  },
  {
   "cell_type": "code",
   "execution_count": 60,
   "id": "78b9c058",
   "metadata": {},
   "outputs": [],
   "source": [
    "ec.analyse()"
   ]
  },
  {
   "cell_type": "code",
   "execution_count": 61,
   "id": "17077dd0",
   "metadata": {},
   "outputs": [
    {
     "data": {
      "image/png": "[encoded data removed]",
      "text/plain": [
       "<Figure size 288x230.4 with 4 Axes>"
      ]
     },
     "metadata": {},
     "output_type": "display_data"
    }
   ],
   "source": [
    "ec.ridge()"
   ]
  },
  {
   "cell_type": "code",
   "execution_count": 62,
   "id": "6ba7f3ee",
   "metadata": {},
   "outputs": [
    {
     "data": {
      "text/plain": [
       "(1744.6993162785225,\n",
       " 0.0,\n",
       " 15,\n",
       " array([[246.96258506, 154.84792311, 242.9921255 , 209.64026513,\n",
       "         154.58322581, 188.99387539],\n",
       "        [307.76631463, 192.97244808, 302.81830314, 261.25500663,\n",
       "         192.64258065, 235.52534688],\n",
       "        [114.7429209 ,  71.94491825, 112.89817941,  97.40235086,\n",
       "          71.82193548,  87.8096951 ],\n",
       "        [263.52817941, 165.23471056, 259.29139196, 223.70237738,\n",
       "         164.95225806, 201.67108263]]))"
      ]
     },
     "execution_count": 62,
     "metadata": {},
     "output_type": "execute_result"
    }
   ],
   "source": [
    "ec.chi2()"
   ]
  },
  {
   "cell_type": "code",
   "execution_count": 63,
   "id": "41022b38",
   "metadata": {},
   "outputs": [
    {
     "data": {
      "text/plain": [
       "{'ensemble': 1.553307289220697,\n",
       " 'ergodic': 1.7741365970706389,\n",
       " 'divergence': 0.22082930784994187,\n",
       " 'complexity': 0.19685906725633212,\n",
       " 'distance': 0.4436880292010729,\n",
       " 'is_complex': 1}"
      ]
     },
     "execution_count": 63,
     "metadata": {},
     "output_type": "execute_result"
    }
   ],
   "source": [
    "ec.measures"
   ]
  },
  {
   "cell_type": "code",
   "execution_count": null,
   "id": "20ca6b98",
   "metadata": {},
   "outputs": [],
   "source": []
  }
 ],
 "metadata": {
  "kernelspec": {
   "display_name": "Python 3",
   "language": "python",
   "name": "python3"
  },
  "language_info": {
   "codemirror_mode": {
    "name": "ipython",
    "version": 3
   },
   "file_extension": ".py",
   "mimetype": "text/x-python",
   "name": "python",
   "nbconvert_exporter": "python",
   "pygments_lexer": "ipython3",
   "version": "3.9.5"
  }
 },
 "nbformat": 4,
 "nbformat_minor": 5
}

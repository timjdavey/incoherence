{
 "cells": [
  {
   "cell_type": "code",
   "execution_count": 106,
   "id": "5304f995",
   "metadata": {},
   "outputs": [],
   "source": [
    "import nbsetup as nb\n",
    "import ensemblepy as ep\n",
    "import seaborn as sns"
   ]
  },
  {
   "cell_type": "code",
   "execution_count": 261,
   "id": "fbb35f9a",
   "metadata": {},
   "outputs": [],
   "source": [
    "import numpy as np\n",
    "\n",
    "class Parcel(object):\n",
    "    \"\"\"\n",
    "    A simple object that gets passed through the nodes\n",
    "    For instance a chip in a silicon factory\n",
    "    \"\"\"\n",
    "    def __init__(self, created_at):\n",
    "        self.created_at = created_at\n",
    "        self.history = []\n",
    "        self.record(created_at, 0)\n",
    "    \n",
    "    def record(self, time, worktime):\n",
    "        self.history.append((time-self.created_at, worktime))\n",
    "\n",
    "\n",
    "class Node(object):\n",
    "    \"\"\"\n",
    "    A node where a parcel needs to pass through\n",
    "    For instance a toolchain in a silicon factory\n",
    "    or a depot in a delivery chain\n",
    "    \"\"\"\n",
    "    def __init__(self, average, std=3):\n",
    "        self.average = average\n",
    "        self.std = std\n",
    "        self.parcel = None\n",
    "        self.finished = 0\n",
    "\n",
    "    def is_finished(self, time):\n",
    "        return self.parcel is not None and time >= self.finished\n",
    "\n",
    "    def recieve(self, time, parcel):\n",
    "        worktime = int(np.random.normal(self.average, self.std))\n",
    "        self.finished = time+worktime\n",
    "        parcel.record(time, worktime)\n",
    "        self.parcel = parcel\n",
    "        return worktime\n",
    "\n",
    "\n",
    "class System(object):\n",
    "    \"\"\"\n",
    "    The network of nodes\n",
    "    \"\"\"\n",
    "    def __init__(self, setup, std=3):\n",
    "        self.results = []\n",
    "        self.worktimes = []\n",
    "        self.parcels = []\n",
    "        self.layers = {}\n",
    "        for layer, row in enumerate(setup):\n",
    "            nodes = []\n",
    "            for average in row:\n",
    "                nodes.append(Node(average, std))\n",
    "            self.layers[layer] = nodes\n",
    "\n",
    "        self.index = list(self.layers.keys())\n",
    "        self.index.reverse()\n",
    "        self.time = 0\n",
    "\n",
    "    def empty_nodes(self, layer):\n",
    "        empty = []\n",
    "        for node in self.layers[layer]:\n",
    "            if node.parcel is None:\n",
    "                empty.append(node)\n",
    "        return empty\n",
    "\n",
    "    def last_layer(self):\n",
    "        for node in self.layers[self.index[0]]:\n",
    "            if node.is_finished(self.time):\n",
    "                self.results.append(self.time-node.parcel.created_at)\n",
    "                node.parcel.record(self.time, None)\n",
    "                self.parcels.append(node.parcel)\n",
    "                node.parcel = None\n",
    "\n",
    "    def previous_layers(self):\n",
    "        for layer in self.index[1:]:\n",
    "            nodes = self.layers[layer]\n",
    "            np.random.shuffle(nodes)\n",
    "            for node in nodes:\n",
    "                if node.is_finished(self.time):\n",
    "                    empty_node_from_next_layer = self.empty_nodes(layer+1)\n",
    "                    if empty_node_from_next_layer:\n",
    "                        worktime = empty_node_from_next_layer[0].recieve(self.time, node.parcel)\n",
    "                        node.parcel = None\n",
    "                        self.worktimes.append(worktime)\n",
    "\n",
    "    def first_layer(self):\n",
    "        for node in self.layers[0]:\n",
    "            if node.parcel is None:\n",
    "                node.parcel = Parcel(self.time)\n",
    "\n",
    "    def step(self):\n",
    "        self.time += 1\n",
    "        self.last_layer()\n",
    "        self.previous_layers()\n",
    "        self.first_layer()\n",
    "    \n",
    "    def simulate(self, steps):\n",
    "        [self.step() for _ in range(steps)]\n",
    "        return self.results[int(len(self.results)*0.1):]\n",
    "\n",
    "    "
   ]
  },
  {
   "cell_type": "code",
   "execution_count": 340,
   "id": "c160a83a",
   "metadata": {},
   "outputs": [],
   "source": [
    "def multisim(settings, ensembles=5, steps=10000, std=5):\n",
    "    results, systems = [], []\n",
    "    for _ in range(ensembles):\n",
    "        sys = System(settings, std=std)\n",
    "        results.append(sys.simulate(steps))\n",
    "        systems.append(sys)\n",
    "    d = ep.Discrete(results, ep.binobs(results, 20))\n",
    "    print(d.incoherence)\n",
    "    #ep.plot_discrete(d)\n",
    "    sns.histplot(results)\n",
    "    return d"
   ]
  },
  {
   "cell_type": "code",
   "execution_count": 344,
   "id": "9097da35",
   "metadata": {},
   "outputs": [
    {
     "name": "stdout",
     "output_type": "stream",
     "text": [
      "0.014324741995016207\n"
     ]
    },
    {
     "data": {
      "image/png": "[encoded data removed]",
      "text/plain": [
       "<Figure size 432x288 with 1 Axes>"
      ]
     },
     "metadata": {
      "needs_background": "light"
     },
     "output_type": "display_data"
    }
   ],
   "source": [
    "results = multisim([[5,3],[7,8],[50,100,80,60,80],[12,8]])"
   ]
  },
  {
   "cell_type": "code",
   "execution_count": 347,
   "id": "9742e301",
   "metadata": {},
   "outputs": [
    {
     "name": "stdout",
     "output_type": "stream",
     "text": [
      "0.02097283245494119\n"
     ]
    },
    {
     "data": {
      "image/png": "[encoded data removed]",
      "text/plain": [
       "<Figure size 432x288 with 1 Axes>"
      ]
     },
     "metadata": {
      "needs_background": "light"
     },
     "output_type": "display_data"
    }
   ],
   "source": [
    "results = multisim([[5,3],[7,8],[50],[12,8]])"
   ]
  },
  {
   "cell_type": "code",
   "execution_count": 348,
   "id": "21c16ca8",
   "metadata": {},
   "outputs": [
    {
     "name": "stdout",
     "output_type": "stream",
     "text": [
      "0.017115143873009844\n"
     ]
    },
    {
     "data": {
      "image/png": "[encoded data removed]",
      "text/plain": [
       "<Figure size 432x288 with 1 Axes>"
      ]
     },
     "metadata": {
      "needs_background": "light"
     },
     "output_type": "display_data"
    }
   ],
   "source": [
    "results = multisim([[5,3],[7,8],[5],[12,8]])"
   ]
  },
  {
   "cell_type": "code",
   "execution_count": null,
   "id": "2f895708",
   "metadata": {},
   "outputs": [],
   "source": []
  }
 ],
 "metadata": {
  "kernelspec": {
   "display_name": "Python 3",
   "language": "python",
   "name": "python3"
  },
  "language_info": {
   "codemirror_mode": {
    "name": "ipython",
    "version": 3
   },
   "file_extension": ".py",
   "mimetype": "text/x-python",
   "name": "python",
   "nbconvert_exporter": "python",
   "pygments_lexer": "ipython3",
   "version": "3.9.5"
  }
 },
 "nbformat": 4,
 "nbformat_minor": 5
}
